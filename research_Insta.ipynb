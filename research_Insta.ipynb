{
 "cells": [
  {
   "cell_type": "code",
   "execution_count": 4,
   "id": "d781978d",
   "metadata": {},
   "outputs": [
    {
     "name": "stdout",
     "output_type": "stream",
     "text": [
      "Requirement already satisfied: selenium in c:\\users\\asus\\appdata\\local\\programs\\python\\python37\\lib\\site-packages (4.11.2)\n",
      "Requirement already satisfied: urllib3<3,>=1.26 in c:\\users\\asus\\appdata\\local\\programs\\python\\python37\\lib\\site-packages (from urllib3[socks]<3,>=1.26->selenium) (2.0.7)\n",
      "Requirement already satisfied: trio~=0.17 in c:\\users\\asus\\appdata\\local\\programs\\python\\python37\\lib\\site-packages (from selenium) (0.22.2)\n",
      "Requirement already satisfied: trio-websocket~=0.9 in c:\\users\\asus\\appdata\\local\\programs\\python\\python37\\lib\\site-packages (from selenium) (0.11.1)\n",
      "Requirement already satisfied: certifi>=2021.10.8 in c:\\users\\asus\\appdata\\local\\programs\\python\\python37\\lib\\site-packages (from selenium) (2024.2.2)\n",
      "Requirement already satisfied: attrs>=20.1.0 in c:\\users\\asus\\appdata\\local\\programs\\python\\python37\\lib\\site-packages (from trio~=0.17->selenium) (23.2.0)\n",
      "Requirement already satisfied: sortedcontainers in c:\\users\\asus\\appdata\\local\\programs\\python\\python37\\lib\\site-packages (from trio~=0.17->selenium) (2.4.0)\n",
      "Requirement already satisfied: idna in c:\\users\\asus\\appdata\\local\\programs\\python\\python37\\lib\\site-packages (from trio~=0.17->selenium) (3.7)\n",
      "Requirement already satisfied: outcome in c:\\users\\asus\\appdata\\local\\programs\\python\\python37\\lib\\site-packages (from trio~=0.17->selenium) (1.3.0.post0)\n",
      "Requirement already satisfied: sniffio in c:\\users\\asus\\appdata\\local\\programs\\python\\python37\\lib\\site-packages (from trio~=0.17->selenium) (1.3.1)\n",
      "Requirement already satisfied: cffi>=1.14 in c:\\users\\asus\\appdata\\local\\programs\\python\\python37\\lib\\site-packages (from trio~=0.17->selenium) (1.15.1)\n",
      "Requirement already satisfied: exceptiongroup>=1.0.0rc9 in c:\\users\\asus\\appdata\\local\\programs\\python\\python37\\lib\\site-packages (from trio~=0.17->selenium) (1.2.0)\n",
      "Requirement already satisfied: wsproto>=0.14 in c:\\users\\asus\\appdata\\local\\programs\\python\\python37\\lib\\site-packages (from trio-websocket~=0.9->selenium) (1.2.0)\n",
      "Requirement already satisfied: pysocks!=1.5.7,<2.0,>=1.5.6 in c:\\users\\asus\\appdata\\local\\programs\\python\\python37\\lib\\site-packages (from urllib3[socks]<3,>=1.26->selenium) (1.7.1)\n",
      "Requirement already satisfied: importlib-metadata in c:\\users\\asus\\appdata\\local\\programs\\python\\python37\\lib\\site-packages (from attrs>=20.1.0->trio~=0.17->selenium) (6.7.0)\n",
      "Requirement already satisfied: pycparser in c:\\users\\asus\\appdata\\local\\programs\\python\\python37\\lib\\site-packages (from cffi>=1.14->trio~=0.17->selenium) (2.21)\n",
      "Requirement already satisfied: h11<1,>=0.9.0 in c:\\users\\asus\\appdata\\local\\programs\\python\\python37\\lib\\site-packages (from wsproto>=0.14->trio-websocket~=0.9->selenium) (0.14.0)\n",
      "Requirement already satisfied: typing-extensions in c:\\users\\asus\\appdata\\local\\programs\\python\\python37\\lib\\site-packages (from h11<1,>=0.9.0->wsproto>=0.14->trio-websocket~=0.9->selenium) (4.7.1)\n",
      "Requirement already satisfied: zipp>=0.5 in c:\\users\\asus\\appdata\\local\\programs\\python\\python37\\lib\\site-packages (from importlib-metadata->attrs>=20.1.0->trio~=0.17->selenium) (3.15.0)\n"
     ]
    }
   ],
   "source": [
    "!pip install selenium"
   ]
  },
  {
   "cell_type": "code",
   "execution_count": 5,
   "id": "1506555d-f277-4ca8-b17b-c21325126bbf",
   "metadata": {},
   "outputs": [],
   "source": [
    "from selenium import webdriver\n",
    "from selenium.webdriver.common.keys import Keys\n",
    "from selenium.webdriver.common.by import By\n",
    "from selenium.webdriver.support import expected_conditions as EC\n",
    "from selenium.webdriver.support.wait import WebDriverWait\n",
    "import time\n",
    "from selenium.webdriver.firefox.service import Service as FirefoxService\n",
    "from webdriver_manager.firefox import GeckoDriverManager"
   ]
  },
  {
   "cell_type": "code",
   "execution_count": 6,
   "id": "56317a93-7637-4cf0-9fc5-6ea443474bdb",
   "metadata": {},
   "outputs": [
    {
     "ename": "ValueError",
     "evalue": "response body:\n{\"message\":\"API rate limit exceeded for 101.255.148.10. (But here's the good news: Authenticated requests get a higher rate limit. Check out the documentation for more details.)\",\"documentation_url\":\"https://docs.github.com/rest/overview/resources-in-the-rest-api#rate-limiting\"}\n\nrequest url:\nhttps://api.github.com/repos/mozilla/geckodriver/releases/latest\nresponse headers:\n{'Date': 'Mon, 06 May 2024 04:43:10 GMT', 'Server': 'Varnish', 'Strict-Transport-Security': 'max-age=31536000; includeSubdomains; preload', 'X-Content-Type-Options': 'nosniff', 'X-Frame-Options': 'deny', 'X-XSS-Protection': '1; mode=block', 'Content-Security-Policy': \"default-src 'none'; style-src 'unsafe-inline'\", 'Access-Control-Allow-Origin': '*', 'Access-Control-Expose-Headers': 'ETag, Link, Location, Retry-After, X-GitHub-OTP, X-RateLimit-Limit, X-RateLimit-Remaining, X-RateLimit-Reset, X-RateLimit-Used, X-RateLimit-Resource, X-OAuth-Scopes, X-Accepted-OAuth-Scopes, X-Poll-Interval, X-GitHub-Media-Type, Deprecation, Sunset', 'Content-Type': 'application/json; charset=utf-8', 'Referrer-Policy': 'origin-when-cross-origin, strict-origin-when-cross-origin', 'X-GitHub-Media-Type': 'github.v3; format=json', 'X-RateLimit-Limit': '60', 'X-RateLimit-Remaining': '0', 'X-RateLimit-Reset': '1714971294', 'X-RateLimit-Resource': 'core', 'X-RateLimit-Used': '60', 'Content-Length': '280', 'X-GitHub-Request-Id': 'C4A5:1BDAC1:C90B02B:CB7F4FE:66385FDE'}\n",
     "output_type": "error",
     "traceback": [
      "\u001b[1;31m---------------------------------------------------------------------------\u001b[0m",
      "\u001b[1;31mValueError\u001b[0m                                Traceback (most recent call last)",
      "\u001b[1;32m~\\AppData\\Local\\Temp\\ipykernel_19244\\4194356962.py\u001b[0m in \u001b[0;36m<module>\u001b[1;34m\u001b[0m\n\u001b[1;32m----> 1\u001b[1;33m \u001b[0mdriver\u001b[0m \u001b[1;33m=\u001b[0m \u001b[0mwebdriver\u001b[0m\u001b[1;33m.\u001b[0m\u001b[0mFirefox\u001b[0m\u001b[1;33m(\u001b[0m\u001b[0mservice\u001b[0m\u001b[1;33m=\u001b[0m\u001b[0mFirefoxService\u001b[0m\u001b[1;33m(\u001b[0m\u001b[0mGeckoDriverManager\u001b[0m\u001b[1;33m(\u001b[0m\u001b[1;33m)\u001b[0m\u001b[1;33m.\u001b[0m\u001b[0minstall\u001b[0m\u001b[1;33m(\u001b[0m\u001b[1;33m)\u001b[0m\u001b[1;33m)\u001b[0m\u001b[1;33m)\u001b[0m\u001b[1;33m\u001b[0m\u001b[1;33m\u001b[0m\u001b[0m\n\u001b[0m",
      "\u001b[1;32mc:\\Users\\asus\\AppData\\Local\\Programs\\Python\\Python37\\lib\\site-packages\\webdriver_manager\\firefox.py\u001b[0m in \u001b[0;36minstall\u001b[1;34m(self)\u001b[0m\n\u001b[0;32m     37\u001b[0m \u001b[1;33m\u001b[0m\u001b[0m\n\u001b[0;32m     38\u001b[0m     \u001b[1;32mdef\u001b[0m \u001b[0minstall\u001b[0m\u001b[1;33m(\u001b[0m\u001b[0mself\u001b[0m\u001b[1;33m)\u001b[0m \u001b[1;33m->\u001b[0m \u001b[0mstr\u001b[0m\u001b[1;33m:\u001b[0m\u001b[1;33m\u001b[0m\u001b[1;33m\u001b[0m\u001b[0m\n\u001b[1;32m---> 39\u001b[1;33m         \u001b[0mdriver_path\u001b[0m \u001b[1;33m=\u001b[0m \u001b[0mself\u001b[0m\u001b[1;33m.\u001b[0m\u001b[0m_get_driver_binary_path\u001b[0m\u001b[1;33m(\u001b[0m\u001b[0mself\u001b[0m\u001b[1;33m.\u001b[0m\u001b[0mdriver\u001b[0m\u001b[1;33m)\u001b[0m\u001b[1;33m\u001b[0m\u001b[1;33m\u001b[0m\u001b[0m\n\u001b[0m\u001b[0;32m     40\u001b[0m         \u001b[0mos\u001b[0m\u001b[1;33m.\u001b[0m\u001b[0mchmod\u001b[0m\u001b[1;33m(\u001b[0m\u001b[0mdriver_path\u001b[0m\u001b[1;33m,\u001b[0m \u001b[1;36m0o755\u001b[0m\u001b[1;33m)\u001b[0m\u001b[1;33m\u001b[0m\u001b[1;33m\u001b[0m\u001b[0m\n\u001b[0;32m     41\u001b[0m         \u001b[1;32mreturn\u001b[0m \u001b[0mdriver_path\u001b[0m\u001b[1;33m\u001b[0m\u001b[1;33m\u001b[0m\u001b[0m\n",
      "\u001b[1;32mc:\\Users\\asus\\AppData\\Local\\Programs\\Python\\Python37\\lib\\site-packages\\webdriver_manager\\core\\manager.py\u001b[0m in \u001b[0;36m_get_driver_binary_path\u001b[1;34m(self, driver)\u001b[0m\n\u001b[0;32m     38\u001b[0m \u001b[1;33m\u001b[0m\u001b[0m\n\u001b[0;32m     39\u001b[0m         \u001b[0mos_type\u001b[0m \u001b[1;33m=\u001b[0m \u001b[0mself\u001b[0m\u001b[1;33m.\u001b[0m\u001b[0mget_os_type\u001b[0m\u001b[1;33m(\u001b[0m\u001b[1;33m)\u001b[0m\u001b[1;33m\u001b[0m\u001b[1;33m\u001b[0m\u001b[0m\n\u001b[1;32m---> 40\u001b[1;33m         \u001b[0mfile\u001b[0m \u001b[1;33m=\u001b[0m \u001b[0mself\u001b[0m\u001b[1;33m.\u001b[0m\u001b[0m_download_manager\u001b[0m\u001b[1;33m.\u001b[0m\u001b[0mdownload_file\u001b[0m\u001b[1;33m(\u001b[0m\u001b[0mdriver\u001b[0m\u001b[1;33m.\u001b[0m\u001b[0mget_driver_download_url\u001b[0m\u001b[1;33m(\u001b[0m\u001b[0mos_type\u001b[0m\u001b[1;33m)\u001b[0m\u001b[1;33m)\u001b[0m\u001b[1;33m\u001b[0m\u001b[1;33m\u001b[0m\u001b[0m\n\u001b[0m\u001b[0;32m     41\u001b[0m         \u001b[0mbinary_path\u001b[0m \u001b[1;33m=\u001b[0m \u001b[0mself\u001b[0m\u001b[1;33m.\u001b[0m\u001b[0m_cache_manager\u001b[0m\u001b[1;33m.\u001b[0m\u001b[0msave_file_to_cache\u001b[0m\u001b[1;33m(\u001b[0m\u001b[0mdriver\u001b[0m\u001b[1;33m,\u001b[0m \u001b[0mfile\u001b[0m\u001b[1;33m)\u001b[0m\u001b[1;33m\u001b[0m\u001b[1;33m\u001b[0m\u001b[0m\n\u001b[0;32m     42\u001b[0m         \u001b[1;32mreturn\u001b[0m \u001b[0mbinary_path\u001b[0m\u001b[1;33m\u001b[0m\u001b[1;33m\u001b[0m\u001b[0m\n",
      "\u001b[1;32mc:\\Users\\asus\\AppData\\Local\\Programs\\Python\\Python37\\lib\\site-packages\\webdriver_manager\\drivers\\firefox.py\u001b[0m in \u001b[0;36mget_driver_download_url\u001b[1;34m(self, os_type)\u001b[0m\n\u001b[0;32m     35\u001b[0m     \u001b[1;32mdef\u001b[0m \u001b[0mget_driver_download_url\u001b[0m\u001b[1;33m(\u001b[0m\u001b[0mself\u001b[0m\u001b[1;33m,\u001b[0m \u001b[0mos_type\u001b[0m\u001b[1;33m)\u001b[0m\u001b[1;33m:\u001b[0m\u001b[1;33m\u001b[0m\u001b[1;33m\u001b[0m\u001b[0m\n\u001b[0;32m     36\u001b[0m         \u001b[1;34m\"\"\"Like https://github.com/mozilla/geckodriver/releases/download/v0.11.1/geckodriver-v0.11.1-linux64.tar.gz\"\"\"\u001b[0m\u001b[1;33m\u001b[0m\u001b[1;33m\u001b[0m\u001b[0m\n\u001b[1;32m---> 37\u001b[1;33m         \u001b[0mdriver_version_to_download\u001b[0m \u001b[1;33m=\u001b[0m \u001b[0mself\u001b[0m\u001b[1;33m.\u001b[0m\u001b[0mget_driver_version_to_download\u001b[0m\u001b[1;33m(\u001b[0m\u001b[1;33m)\u001b[0m\u001b[1;33m\u001b[0m\u001b[1;33m\u001b[0m\u001b[0m\n\u001b[0m\u001b[0;32m     38\u001b[0m         \u001b[0mlog\u001b[0m\u001b[1;33m(\u001b[0m\u001b[1;34mf\"Getting latest mozilla release info for {driver_version_to_download}\"\u001b[0m\u001b[1;33m)\u001b[0m\u001b[1;33m\u001b[0m\u001b[1;33m\u001b[0m\u001b[0m\n\u001b[0;32m     39\u001b[0m         resp = self._http_client.get(\n",
      "\u001b[1;32mc:\\Users\\asus\\AppData\\Local\\Programs\\Python\\Python37\\lib\\site-packages\\webdriver_manager\\core\\driver.py\u001b[0m in \u001b[0;36mget_driver_version_to_download\u001b[1;34m(self)\u001b[0m\n\u001b[0;32m     46\u001b[0m             \u001b[1;32mreturn\u001b[0m \u001b[0mself\u001b[0m\u001b[1;33m.\u001b[0m\u001b[0m_driver_version_to_download\u001b[0m\u001b[1;33m\u001b[0m\u001b[1;33m\u001b[0m\u001b[0m\n\u001b[0;32m     47\u001b[0m \u001b[1;33m\u001b[0m\u001b[0m\n\u001b[1;32m---> 48\u001b[1;33m         \u001b[1;32mreturn\u001b[0m \u001b[0mself\u001b[0m\u001b[1;33m.\u001b[0m\u001b[0mget_latest_release_version\u001b[0m\u001b[1;33m(\u001b[0m\u001b[1;33m)\u001b[0m\u001b[1;33m\u001b[0m\u001b[1;33m\u001b[0m\u001b[0m\n\u001b[0m\u001b[0;32m     49\u001b[0m \u001b[1;33m\u001b[0m\u001b[0m\n\u001b[0;32m     50\u001b[0m     \u001b[1;32mdef\u001b[0m \u001b[0mget_latest_release_version\u001b[0m\u001b[1;33m(\u001b[0m\u001b[0mself\u001b[0m\u001b[1;33m)\u001b[0m\u001b[1;33m:\u001b[0m\u001b[1;33m\u001b[0m\u001b[1;33m\u001b[0m\u001b[0m\n",
      "\u001b[1;32mc:\\Users\\asus\\AppData\\Local\\Programs\\Python\\Python37\\lib\\site-packages\\webdriver_manager\\drivers\\firefox.py\u001b[0m in \u001b[0;36mget_latest_release_version\u001b[1;34m(self)\u001b[0m\n\u001b[0;32m     29\u001b[0m         resp = self._http_client.get(\n\u001b[0;32m     30\u001b[0m             \u001b[0murl\u001b[0m\u001b[1;33m=\u001b[0m\u001b[0mself\u001b[0m\u001b[1;33m.\u001b[0m\u001b[0mlatest_release_url\u001b[0m\u001b[1;33m,\u001b[0m\u001b[1;33m\u001b[0m\u001b[1;33m\u001b[0m\u001b[0m\n\u001b[1;32m---> 31\u001b[1;33m             \u001b[0mheaders\u001b[0m\u001b[1;33m=\u001b[0m\u001b[0mself\u001b[0m\u001b[1;33m.\u001b[0m\u001b[0mauth_header\u001b[0m\u001b[1;33m\u001b[0m\u001b[1;33m\u001b[0m\u001b[0m\n\u001b[0m\u001b[0;32m     32\u001b[0m         )\n\u001b[0;32m     33\u001b[0m         \u001b[1;32mreturn\u001b[0m \u001b[0mresp\u001b[0m\u001b[1;33m.\u001b[0m\u001b[0mjson\u001b[0m\u001b[1;33m(\u001b[0m\u001b[1;33m)\u001b[0m\u001b[1;33m[\u001b[0m\u001b[1;34m\"tag_name\"\u001b[0m\u001b[1;33m]\u001b[0m\u001b[1;33m\u001b[0m\u001b[1;33m\u001b[0m\u001b[0m\n",
      "\u001b[1;32mc:\\Users\\asus\\AppData\\Local\\Programs\\Python\\Python37\\lib\\site-packages\\webdriver_manager\\core\\http.py\u001b[0m in \u001b[0;36mget\u001b[1;34m(self, url, **kwargs)\u001b[0m\n\u001b[0;32m     34\u001b[0m         \u001b[1;32mexcept\u001b[0m \u001b[0mexceptions\u001b[0m\u001b[1;33m.\u001b[0m\u001b[0mConnectionError\u001b[0m\u001b[1;33m:\u001b[0m\u001b[1;33m\u001b[0m\u001b[1;33m\u001b[0m\u001b[0m\n\u001b[0;32m     35\u001b[0m             \u001b[1;32mraise\u001b[0m \u001b[0mexceptions\u001b[0m\u001b[1;33m.\u001b[0m\u001b[0mConnectionError\u001b[0m\u001b[1;33m(\u001b[0m\u001b[1;34mf\"Could not reach host. Are you offline?\"\u001b[0m\u001b[1;33m)\u001b[0m\u001b[1;33m\u001b[0m\u001b[1;33m\u001b[0m\u001b[0m\n\u001b[1;32m---> 36\u001b[1;33m         \u001b[0mself\u001b[0m\u001b[1;33m.\u001b[0m\u001b[0mvalidate_response\u001b[0m\u001b[1;33m(\u001b[0m\u001b[0mresp\u001b[0m\u001b[1;33m)\u001b[0m\u001b[1;33m\u001b[0m\u001b[1;33m\u001b[0m\u001b[0m\n\u001b[0m\u001b[0;32m     37\u001b[0m         \u001b[1;32mreturn\u001b[0m \u001b[0mresp\u001b[0m\u001b[1;33m\u001b[0m\u001b[1;33m\u001b[0m\u001b[0m\n\u001b[0;32m     38\u001b[0m \u001b[1;33m\u001b[0m\u001b[0m\n",
      "\u001b[1;32mc:\\Users\\asus\\AppData\\Local\\Programs\\Python\\Python37\\lib\\site-packages\\webdriver_manager\\core\\http.py\u001b[0m in \u001b[0;36mvalidate_response\u001b[1;34m(resp)\u001b[0m\n\u001b[0;32m     18\u001b[0m         \u001b[1;32melif\u001b[0m \u001b[0mresp\u001b[0m\u001b[1;33m.\u001b[0m\u001b[0mstatus_code\u001b[0m \u001b[1;33m!=\u001b[0m \u001b[1;36m200\u001b[0m\u001b[1;33m:\u001b[0m\u001b[1;33m\u001b[0m\u001b[1;33m\u001b[0m\u001b[0m\n\u001b[0;32m     19\u001b[0m             raise ValueError(\n\u001b[1;32m---> 20\u001b[1;33m                 \u001b[1;34mf\"response body:\\n{resp.text}\\n\"\u001b[0m\u001b[1;33m\u001b[0m\u001b[1;33m\u001b[0m\u001b[0m\n\u001b[0m\u001b[0;32m     21\u001b[0m                 \u001b[1;34mf\"request url:\\n{resp.request.url}\\n\"\u001b[0m\u001b[1;33m\u001b[0m\u001b[1;33m\u001b[0m\u001b[0m\n\u001b[0;32m     22\u001b[0m                 \u001b[1;34mf\"response headers:\\n{dict(resp.headers)}\\n\"\u001b[0m\u001b[1;33m\u001b[0m\u001b[1;33m\u001b[0m\u001b[0m\n",
      "\u001b[1;31mValueError\u001b[0m: response body:\n{\"message\":\"API rate limit exceeded for 101.255.148.10. (But here's the good news: Authenticated requests get a higher rate limit. Check out the documentation for more details.)\",\"documentation_url\":\"https://docs.github.com/rest/overview/resources-in-the-rest-api#rate-limiting\"}\n\nrequest url:\nhttps://api.github.com/repos/mozilla/geckodriver/releases/latest\nresponse headers:\n{'Date': 'Mon, 06 May 2024 04:43:10 GMT', 'Server': 'Varnish', 'Strict-Transport-Security': 'max-age=31536000; includeSubdomains; preload', 'X-Content-Type-Options': 'nosniff', 'X-Frame-Options': 'deny', 'X-XSS-Protection': '1; mode=block', 'Content-Security-Policy': \"default-src 'none'; style-src 'unsafe-inline'\", 'Access-Control-Allow-Origin': '*', 'Access-Control-Expose-Headers': 'ETag, Link, Location, Retry-After, X-GitHub-OTP, X-RateLimit-Limit, X-RateLimit-Remaining, X-RateLimit-Reset, X-RateLimit-Used, X-RateLimit-Resource, X-OAuth-Scopes, X-Accepted-OAuth-Scopes, X-Poll-Interval, X-GitHub-Media-Type, Deprecation, Sunset', 'Content-Type': 'application/json; charset=utf-8', 'Referrer-Policy': 'origin-when-cross-origin, strict-origin-when-cross-origin', 'X-GitHub-Media-Type': 'github.v3; format=json', 'X-RateLimit-Limit': '60', 'X-RateLimit-Remaining': '0', 'X-RateLimit-Reset': '1714971294', 'X-RateLimit-Resource': 'core', 'X-RateLimit-Used': '60', 'Content-Length': '280', 'X-GitHub-Request-Id': 'C4A5:1BDAC1:C90B02B:CB7F4FE:66385FDE'}\n"
     ]
    }
   ],
   "source": [
    "driver = webdriver.Firefox(service=FirefoxService(GeckoDriverManager().install()))"
   ]
  },
  {
   "cell_type": "code",
   "execution_count": null,
   "id": "5199920e-f2da-4fac-8c36-8e1af412d039",
   "metadata": {},
   "outputs": [],
   "source": [
    "driver.get('https://instagram.com')"
   ]
  },
  {
   "cell_type": "code",
   "execution_count": null,
   "id": "62a9d9f9-ad14-4875-b98c-385f07dc42e5",
   "metadata": {},
   "outputs": [
    {
     "ename": "TimeoutException",
     "evalue": "Message: \nStacktrace:\nRemoteError@chrome://remote/content/shared/RemoteError.sys.mjs:8:8\nWebDriverError@chrome://remote/content/shared/webdriver/Errors.sys.mjs:193:5\nNoSuchElementError@chrome://remote/content/shared/webdriver/Errors.sys.mjs:511:5\ndom.find/</<@chrome://remote/content/shared/DOM.sys.mjs:136:16\n",
     "output_type": "error",
     "traceback": [
      "\u001b[1;31m---------------------------------------------------------------------------\u001b[0m",
      "\u001b[1;31mTimeoutException\u001b[0m                          Traceback (most recent call last)",
      "\u001b[1;32m~\\AppData\\Local\\Temp\\ipykernel_20580\\3079486537.py\u001b[0m in \u001b[0;36m<module>\u001b[1;34m\u001b[0m\n\u001b[1;32m----> 1\u001b[1;33m \u001b[0musername\u001b[0m \u001b[1;33m=\u001b[0m \u001b[0mWebDriverWait\u001b[0m\u001b[1;33m(\u001b[0m\u001b[0mdriver\u001b[0m\u001b[1;33m,\u001b[0m\u001b[1;36m10\u001b[0m\u001b[1;33m)\u001b[0m\u001b[1;33m.\u001b[0m\u001b[0muntil\u001b[0m\u001b[1;33m(\u001b[0m\u001b[0mEC\u001b[0m\u001b[1;33m.\u001b[0m\u001b[0melement_to_be_clickable\u001b[0m\u001b[1;33m(\u001b[0m\u001b[1;33m(\u001b[0m\u001b[0mBy\u001b[0m\u001b[1;33m.\u001b[0m\u001b[0mCSS_SELECTOR\u001b[0m\u001b[1;33m,\u001b[0m\u001b[1;34m\"input[name='username']\"\u001b[0m\u001b[1;33m)\u001b[0m\u001b[1;33m)\u001b[0m\u001b[1;33m)\u001b[0m\u001b[1;33m\u001b[0m\u001b[1;33m\u001b[0m\u001b[0m\n\u001b[0m\u001b[0;32m      2\u001b[0m \u001b[0mpassword\u001b[0m \u001b[1;33m=\u001b[0m \u001b[0mWebDriverWait\u001b[0m\u001b[1;33m(\u001b[0m\u001b[0mdriver\u001b[0m\u001b[1;33m,\u001b[0m\u001b[1;36m10\u001b[0m\u001b[1;33m)\u001b[0m\u001b[1;33m.\u001b[0m\u001b[0muntil\u001b[0m\u001b[1;33m(\u001b[0m\u001b[0mEC\u001b[0m\u001b[1;33m.\u001b[0m\u001b[0melement_to_be_clickable\u001b[0m\u001b[1;33m(\u001b[0m\u001b[1;33m(\u001b[0m\u001b[0mBy\u001b[0m\u001b[1;33m.\u001b[0m\u001b[0mCSS_SELECTOR\u001b[0m\u001b[1;33m,\u001b[0m\u001b[1;34m\"input[name='password']\"\u001b[0m\u001b[1;33m)\u001b[0m\u001b[1;33m)\u001b[0m\u001b[1;33m)\u001b[0m\u001b[1;33m\u001b[0m\u001b[1;33m\u001b[0m\u001b[0m\n\u001b[0;32m      3\u001b[0m \u001b[0musername\u001b[0m\u001b[1;33m.\u001b[0m\u001b[0mclear\u001b[0m\u001b[1;33m(\u001b[0m\u001b[1;33m)\u001b[0m\u001b[1;33m\u001b[0m\u001b[1;33m\u001b[0m\u001b[0m\n\u001b[0;32m      4\u001b[0m \u001b[0mpassword\u001b[0m\u001b[1;33m.\u001b[0m\u001b[0mclear\u001b[0m\u001b[1;33m(\u001b[0m\u001b[1;33m)\u001b[0m\u001b[1;33m\u001b[0m\u001b[1;33m\u001b[0m\u001b[0m\n\u001b[0;32m      5\u001b[0m \u001b[0musername\u001b[0m\u001b[1;33m.\u001b[0m\u001b[0msend_keys\u001b[0m\u001b[1;33m(\u001b[0m\u001b[1;34m\"lallaisbel\"\u001b[0m\u001b[1;33m)\u001b[0m\u001b[1;33m\u001b[0m\u001b[1;33m\u001b[0m\u001b[0m\n",
      "\u001b[1;32mc:\\Users\\asus\\AppData\\Local\\Programs\\Python\\Python37\\lib\\site-packages\\selenium\\webdriver\\support\\wait.py\u001b[0m in \u001b[0;36muntil\u001b[1;34m(self, method, message)\u001b[0m\n\u001b[0;32m     93\u001b[0m             \u001b[1;32mif\u001b[0m \u001b[0mtime\u001b[0m\u001b[1;33m.\u001b[0m\u001b[0mmonotonic\u001b[0m\u001b[1;33m(\u001b[0m\u001b[1;33m)\u001b[0m \u001b[1;33m>\u001b[0m \u001b[0mend_time\u001b[0m\u001b[1;33m:\u001b[0m\u001b[1;33m\u001b[0m\u001b[1;33m\u001b[0m\u001b[0m\n\u001b[0;32m     94\u001b[0m                 \u001b[1;32mbreak\u001b[0m\u001b[1;33m\u001b[0m\u001b[1;33m\u001b[0m\u001b[0m\n\u001b[1;32m---> 95\u001b[1;33m         \u001b[1;32mraise\u001b[0m \u001b[0mTimeoutException\u001b[0m\u001b[1;33m(\u001b[0m\u001b[0mmessage\u001b[0m\u001b[1;33m,\u001b[0m \u001b[0mscreen\u001b[0m\u001b[1;33m,\u001b[0m \u001b[0mstacktrace\u001b[0m\u001b[1;33m)\u001b[0m\u001b[1;33m\u001b[0m\u001b[1;33m\u001b[0m\u001b[0m\n\u001b[0m\u001b[0;32m     96\u001b[0m \u001b[1;33m\u001b[0m\u001b[0m\n\u001b[0;32m     97\u001b[0m     \u001b[1;32mdef\u001b[0m \u001b[0muntil_not\u001b[0m\u001b[1;33m(\u001b[0m\u001b[0mself\u001b[0m\u001b[1;33m,\u001b[0m \u001b[0mmethod\u001b[0m\u001b[1;33m,\u001b[0m \u001b[0mmessage\u001b[0m\u001b[1;33m:\u001b[0m \u001b[0mstr\u001b[0m \u001b[1;33m=\u001b[0m \u001b[1;34m\"\"\u001b[0m\u001b[1;33m)\u001b[0m\u001b[1;33m:\u001b[0m\u001b[1;33m\u001b[0m\u001b[1;33m\u001b[0m\u001b[0m\n",
      "\u001b[1;31mTimeoutException\u001b[0m: Message: \nStacktrace:\nRemoteError@chrome://remote/content/shared/RemoteError.sys.mjs:8:8\nWebDriverError@chrome://remote/content/shared/webdriver/Errors.sys.mjs:193:5\nNoSuchElementError@chrome://remote/content/shared/webdriver/Errors.sys.mjs:511:5\ndom.find/</<@chrome://remote/content/shared/DOM.sys.mjs:136:16\n"
     ]
    }
   ],
   "source": [
    "username = WebDriverWait(driver,10).until(EC.element_to_be_clickable((By.CSS_SELECTOR,\"input[name='username']\")))\n",
    "password = WebDriverWait(driver,10).until(EC.element_to_be_clickable((By.CSS_SELECTOR,\"input[name='password']\")))\n",
    "username.clear()\n",
    "password.clear()\n",
    "username.send_keys(\"lallaisbel\")\n",
    "password.send_keys(\"lalabel1808\")\n",
    "log = WebDriverWait(driver,10).until(EC.element_to_be_clickable((By.CSS_SELECTOR,\"button[type='submit']\"))).click()"
   ]
  },
  {
   "cell_type": "code",
   "execution_count": null,
   "id": "b9ca0f82",
   "metadata": {},
   "outputs": [
    {
     "ename": "TimeoutException",
     "evalue": "Message: \nStacktrace:\nRemoteError@chrome://remote/content/shared/RemoteError.sys.mjs:8:8\nWebDriverError@chrome://remote/content/shared/webdriver/Errors.sys.mjs:193:5\nNoSuchElementError@chrome://remote/content/shared/webdriver/Errors.sys.mjs:511:5\ndom.find/</<@chrome://remote/content/shared/DOM.sys.mjs:136:16\n",
     "output_type": "error",
     "traceback": [
      "\u001b[1;31m---------------------------------------------------------------------------\u001b[0m",
      "\u001b[1;31mTimeoutException\u001b[0m                          Traceback (most recent call last)",
      "\u001b[1;32m~\\AppData\\Local\\Temp\\ipykernel_20580\\2071013418.py\u001b[0m in \u001b[0;36m<module>\u001b[1;34m\u001b[0m\n\u001b[1;32m----> 1\u001b[1;33m \u001b[0malert\u001b[0m \u001b[1;33m=\u001b[0m \u001b[0mWebDriverWait\u001b[0m\u001b[1;33m(\u001b[0m\u001b[0mdriver\u001b[0m\u001b[1;33m,\u001b[0m \u001b[1;36m15\u001b[0m\u001b[1;33m)\u001b[0m\u001b[1;33m.\u001b[0m\u001b[0muntil\u001b[0m\u001b[1;33m(\u001b[0m\u001b[0mEC\u001b[0m\u001b[1;33m.\u001b[0m\u001b[0melement_to_be_clickable\u001b[0m\u001b[1;33m(\u001b[0m\u001b[1;33m(\u001b[0m\u001b[0mBy\u001b[0m\u001b[1;33m.\u001b[0m\u001b[0mXPATH\u001b[0m\u001b[1;33m,\u001b[0m \u001b[1;34m'//button[contains(text(), \"Not now\")]'\u001b[0m\u001b[1;33m)\u001b[0m\u001b[1;33m)\u001b[0m\u001b[1;33m)\u001b[0m\u001b[1;33m.\u001b[0m\u001b[0mclick\u001b[0m\u001b[1;33m(\u001b[0m\u001b[1;33m)\u001b[0m\u001b[1;33m\u001b[0m\u001b[1;33m\u001b[0m\u001b[0m\n\u001b[0m\u001b[0;32m      2\u001b[0m \u001b[1;31m#alert2 = WebDriverWait(driver, 15).until(EC.element_to_be_clickable((By.XPATH, '//button[contains(text(), \"Not Now\")]'))).click()\u001b[0m\u001b[1;33m\u001b[0m\u001b[1;33m\u001b[0m\u001b[1;33m\u001b[0m\u001b[0m\n",
      "\u001b[1;32mc:\\Users\\asus\\AppData\\Local\\Programs\\Python\\Python37\\lib\\site-packages\\selenium\\webdriver\\support\\wait.py\u001b[0m in \u001b[0;36muntil\u001b[1;34m(self, method, message)\u001b[0m\n\u001b[0;32m     93\u001b[0m             \u001b[1;32mif\u001b[0m \u001b[0mtime\u001b[0m\u001b[1;33m.\u001b[0m\u001b[0mmonotonic\u001b[0m\u001b[1;33m(\u001b[0m\u001b[1;33m)\u001b[0m \u001b[1;33m>\u001b[0m \u001b[0mend_time\u001b[0m\u001b[1;33m:\u001b[0m\u001b[1;33m\u001b[0m\u001b[1;33m\u001b[0m\u001b[0m\n\u001b[0;32m     94\u001b[0m                 \u001b[1;32mbreak\u001b[0m\u001b[1;33m\u001b[0m\u001b[1;33m\u001b[0m\u001b[0m\n\u001b[1;32m---> 95\u001b[1;33m         \u001b[1;32mraise\u001b[0m \u001b[0mTimeoutException\u001b[0m\u001b[1;33m(\u001b[0m\u001b[0mmessage\u001b[0m\u001b[1;33m,\u001b[0m \u001b[0mscreen\u001b[0m\u001b[1;33m,\u001b[0m \u001b[0mstacktrace\u001b[0m\u001b[1;33m)\u001b[0m\u001b[1;33m\u001b[0m\u001b[1;33m\u001b[0m\u001b[0m\n\u001b[0m\u001b[0;32m     96\u001b[0m \u001b[1;33m\u001b[0m\u001b[0m\n\u001b[0;32m     97\u001b[0m     \u001b[1;32mdef\u001b[0m \u001b[0muntil_not\u001b[0m\u001b[1;33m(\u001b[0m\u001b[0mself\u001b[0m\u001b[1;33m,\u001b[0m \u001b[0mmethod\u001b[0m\u001b[1;33m,\u001b[0m \u001b[0mmessage\u001b[0m\u001b[1;33m:\u001b[0m \u001b[0mstr\u001b[0m \u001b[1;33m=\u001b[0m \u001b[1;34m\"\"\u001b[0m\u001b[1;33m)\u001b[0m\u001b[1;33m:\u001b[0m\u001b[1;33m\u001b[0m\u001b[1;33m\u001b[0m\u001b[0m\n",
      "\u001b[1;31mTimeoutException\u001b[0m: Message: \nStacktrace:\nRemoteError@chrome://remote/content/shared/RemoteError.sys.mjs:8:8\nWebDriverError@chrome://remote/content/shared/webdriver/Errors.sys.mjs:193:5\nNoSuchElementError@chrome://remote/content/shared/webdriver/Errors.sys.mjs:511:5\ndom.find/</<@chrome://remote/content/shared/DOM.sys.mjs:136:16\n"
     ]
    }
   ],
   "source": [
    "time.sleep(5)\n",
    "alert = WebDriverWait(driver, 15).until(EC.element_to_be_clickable((By.CSS_SELECTOR, '/html/body/div[2]/div/div/div[2]/div/div/div[1]/div[1]/div[2]/section/main/div/div/div/div/div'))).click()\n",
    "# alert = WebDriverWait(driver, 15).until(EC.element_to_be_clickable((By.XPATH, '//button[contains(text(), \"Not now\")]'))).click()"
   ]
  },
  {
   "cell_type": "code",
   "execution_count": null,
   "id": "44c2c246",
   "metadata": {},
   "outputs": [],
   "source": [
    "alert2 = WebDriverWait(driver, 15).until(EC.element_to_be_clickable((By.XPATH, '/html/body/div[4]/div[1]/div/div[2]/div/div/div/div/div[2]/div/div/div[3]/button[2]'))).click()"
   ]
  },
  {
   "cell_type": "code",
   "execution_count": null,
   "id": "f50f1d11",
   "metadata": {},
   "outputs": [],
   "source": [
    "# from datetime import datetime\n",
    "from selenium.common.exceptions import TimeoutException, StaleElementReferenceException\n",
    "# import traceback\n",
    "\n",
    "# def scrape_posts_for_keyword(keywords, maxP, maxD):\n",
    "#     post = 'https://www.instagram.com/p/'\n",
    "#     all_plinks = []  # List to store post links for all keywords\n",
    "#     for idx, keyword in enumerate(keywords, start=1):\n",
    "#         print(f\"Scraping posts for keyword {idx}/{len(keywords)}: '{keyword}'\")\n",
    "#         plinks = []  # List to store post links for the current keyword\n",
    "#         driver.get(\"https://www.instagram.com/explore/tags/\" + keyword + \"/\")\n",
    "#         time.sleep(3)\n",
    "#         while len(plinks) < maxP:\n",
    "#             try:\n",
    "#                 urls = [a.get_attribute('href') for a in driver.find_elements(By.TAG_NAME, 'a')]\n",
    "#                 for url in urls:\n",
    "#                     if post in url and url not in plinks:\n",
    "#                         try:\n",
    "#                             parts = url.split(\"/\")\n",
    "#                             post_id = parts[-2]\n",
    "#                             css_selector = f'class[name=\"{post_id}\"]'\n",
    "#                             print(css_selector)\n",
    "#                             age = WebDriverWait(driver, 15).until(EC.presence_of_element_located((By.CSS_SELECTOR, css_selector)))\n",
    "#                             Pdate_str = age.get_attribute(\"datetime\")\n",
    "#                             Pdate = datetime.strptime(Pdate_str[:10], '%Y-%m-%d').date()\n",
    "#                             if Pdate <= maxD:\n",
    "#                                 plinks.append(url)\n",
    "#                         except TimeoutException as e:\n",
    "#                             print(\"Timeout occurred. Element not found within specified time.\")\n",
    "#                             print(traceback.format_exc())\n",
    "#             except StaleElementReferenceException:\n",
    "#                 print(\"Stale element reference exception occurred. Retrying...\")\n",
    "#                 continue  # Continue to the next iteration of the loop\n",
    "#             scroll_down = \"window.scrollTo(0, document.body.scrollHeight);\"\n",
    "#             driver.execute_script(scroll_down)\n",
    "#             time.sleep(10)\n",
    "#         all_plinks.extend(plinks[:maxP])  # Add post links for the current keyword to the list\n",
    "#         print(f\"  Scraped {len(plinks)} posts for keyword '{keyword}'\")\n",
    "#     driver.quit()\n",
    "#     return all_plinks\n",
    "def scrape_posts_for_keyword(keywords, maxP):\n",
    "    print(maxP)\n",
    "    # post = 'https://www.instagram.com/p/'\n",
    "    all_plinks = []  # List to store post links for all keywords\n",
    "    for idx, keyword in enumerate(keywords, start=1):\n",
    "        print(f\"Scraping posts for keyword {idx}/{len(keywords)}: '{keyword}'\")\n",
    "        plinks = []\n",
    "        driver.get(\"https://www.instagram.com/explore/tags/\" + keyword + \"/\")\n",
    "        time.sleep(10)\n",
    "        for i in range(0, maxP):    \n",
    "                 anchors = driver.find_elements(By.TAG_NAME, 'a')\n",
    "                 anchors = [a.get_attribute('href') for a in anchors]\n",
    "                 anchors = [a for a in anchors if str(a).startswith(\"https://www.instagram.com/p/\")]\n",
    "                 plinks += anchors[:5]\n",
    "                 print(\"added \" + str(len(anchors)) + \" links\")\n",
    "                 scroll_down = \"window.scrollTo(0, document.body.scrollHeight);\"\n",
    "                 driver.execute_script(scroll_down)\n",
    "                 time.sleep(10)\n",
    "        all_plinks.extend(plinks)  # Add post links for the current keyword to the list\n",
    "        print(f\"  Scraped {len(plinks)} posts for keyword '{keyword}'\")\n",
    "    else : \n",
    "        driver.stop_client()\n",
    "        return all_plinks"
   ]
  },
  {
   "cell_type": "code",
   "execution_count": null,
   "id": "c7047fcd",
   "metadata": {},
   "outputs": [
    {
     "name": "stdout",
     "output_type": "stream",
     "text": [
      "2\n",
      "Scraping posts for keyword 1/4: 'pemilu2024'\n",
      "added 28 links\n",
      "added 28 links\n",
      "  Scraped 10 posts for keyword 'pemilu2024'\n",
      "Scraping posts for keyword 2/4: 'prabowogibran'\n",
      "added 28 links\n",
      "added 28 links\n",
      "  Scraped 10 posts for keyword 'prabowogibran'\n",
      "Scraping posts for keyword 3/4: 'aniesmuhaimin2024'\n",
      "added 25 links\n",
      "added 25 links\n",
      "  Scraped 10 posts for keyword 'aniesmuhaimin2024'\n",
      "Scraping posts for keyword 4/4: 'ganjarmahfud'\n",
      "added 28 links\n",
      "added 28 links\n",
      "  Scraped 10 posts for keyword 'ganjarmahfud'\n",
      "40\n",
      "['https://www.instagram.com/p/C6ki_M3pwoH/', 'https://www.instagram.com/p/C5w45EIv_y-/', 'https://www.instagram.com/p/C5-aOSnyxvz/', 'https://www.instagram.com/p/C5-73S8S5NZ/', 'https://www.instagram.com/p/C6eK67LyJ62/', 'https://www.instagram.com/p/C6ki_M3pwoH/', 'https://www.instagram.com/p/C5w45EIv_y-/', 'https://www.instagram.com/p/C5-aOSnyxvz/', 'https://www.instagram.com/p/C5-73S8S5NZ/', 'https://www.instagram.com/p/C6eK67LyJ62/', 'https://www.instagram.com/p/C6l4kCLBa0g/', 'https://www.instagram.com/p/C6lHMnFvsOf/', 'https://www.instagram.com/p/C57QKV8J6Zq/', 'https://www.instagram.com/p/C5h3kHuL0vs/', 'https://www.instagram.com/p/C5SXzFFJQXq/', 'https://www.instagram.com/p/C6l4kCLBa0g/', 'https://www.instagram.com/p/C6lHMnFvsOf/', 'https://www.instagram.com/p/C57QKV8J6Zq/', 'https://www.instagram.com/p/C5h3kHuL0vs/', 'https://www.instagram.com/p/C5SXzFFJQXq/', 'https://www.instagram.com/p/C4ptAJapmsX/', 'https://www.instagram.com/p/C3QEs5dJ6IZ/', 'https://www.instagram.com/p/C3QQtI_JtH6/', 'https://www.instagram.com/p/C3JYldPy0YT/', 'https://www.instagram.com/p/C5LXJgvSVqe/', 'https://www.instagram.com/p/C4ptAJapmsX/', 'https://www.instagram.com/p/C3QEs5dJ6IZ/', 'https://www.instagram.com/p/C3QQtI_JtH6/', 'https://www.instagram.com/p/C3JYldPy0YT/', 'https://www.instagram.com/p/C5LXJgvSVqe/', 'https://www.instagram.com/p/C59n_pUymRl/', 'https://www.instagram.com/p/C6lHMnFvsOf/', 'https://www.instagram.com/p/C3HBm0xJ7tK/', 'https://www.instagram.com/p/C5cu1w9rqUL/', 'https://www.instagram.com/p/C6dKnS_JzlZ/', 'https://www.instagram.com/p/C59n_pUymRl/', 'https://www.instagram.com/p/C6lHMnFvsOf/', 'https://www.instagram.com/p/C3HBm0xJ7tK/', 'https://www.instagram.com/p/C5cu1w9rqUL/', 'https://www.instagram.com/p/C6dKnS_JzlZ/']\n"
     ]
    }
   ],
   "source": [
    "# maxD = datetime(2024, 2, 13).date()\n",
    "# print(maxD)\n",
    "keywords = [\"pemilu2024\", \"prabowogibran\", \"aniesmuhaimin2024\", \"ganjarmahfud\"]\n",
    "maxP = 2\n",
    "post_urls = scrape_posts_for_keyword(keywords, maxP)\n",
    "print(len(post_urls))\n",
    "print(post_urls)"
   ]
  },
  {
   "cell_type": "code",
   "execution_count": null,
   "id": "12d58b7c",
   "metadata": {},
   "outputs": [],
   "source": [
    "import urllib\n",
    "    \n",
    "def insta_link_details(url):\n",
    "    driver.get(url)\n",
    "    try:\n",
    "        # Wait for the like count element to be visible\n",
    "        likes_element = WebDriverWait(driver, 15).until(\n",
    "            EC.visibility_of_element_located((By.XPATH, '/html/body/div[2]/div/div/div[2]/div/div/div[1]/div[1]/div[2]/section/main/div/div[1]/div/div[2]/div/div[3]/section[2]/div/div/span/a/span'))\n",
    "        )\n",
    "        likes = likes_element.text.split()[0]\n",
    "        post_type = 'photo'\n",
    "    except:\n",
    "        # Wait for the like count element to be visible for videos\n",
    "        likes_element = WebDriverWait(driver, 15).until(\n",
    "            EC.visibility_of_element_located((By.XPATH, '/html/body/div[2]/div/div/div[2]/div/div/div[1]/div[1]/div[2]/section/main/div/div[1]/div/div[2]/div/div[3]/section[2]/div/div/span/a/span'))\n",
    "        )\n",
    "        likes = likes_element.text.split()[0]\n",
    "        post_type = 'video'\n",
    "    \n",
    "    # Click \"View all comments\" if available\n",
    "    try:\n",
    "        view_all_comments_button = WebDriverWait(driver, 15).until(EC.element_to_be_clickable((By.CSS_SELECTOR, 'section.x6s0dn4 > div:nth-child(1) > span:nth-child(2) > div:nth-child(1)'))).click()\n",
    "    except:\n",
    "        pass\n",
    "    comment_par = WebDriverWait(driver, 20).until(\n",
    "        EC.visibility_of_element_located((By.CSS_SELECTOR, '.xw2csxc'))\n",
    "    )\n",
    "    comments = []\n",
    "    for comment_element in comment_par:\n",
    "        content = WebDriverWait(driver, 15).until(EC.presence_of_element_located((By.CSS_SELECTOR, 'div.x1uhb9sk:nth-child(8) > div:nth-child(1) > div:nth-child(1) > div:nth-child(2) > div:nth-child(1) > div:nth-child(1) > div:nth-child(1) > div:nth-child(2) > span:nth-child(1)')))\n",
    "        comments.append(content.text)\n",
    "        if len(comments) >= 100:\n",
    "            break\n",
    "        scroll_down = \"window.scrollTo(0, document.body.scrollHeight);\"\n",
    "        driver.execute_script(scroll_down)\n",
    "        time.sleep(10)\n",
    "    post_details = {'comments': comments,'commentsCount' : len(comments), 'link': url, 'type': post_type, 'likes/views': likes}\n",
    "    return post_details\n"
   ]
  },
  {
   "cell_type": "code",
   "execution_count": null,
   "id": "f46f134a",
   "metadata": {},
   "outputs": [
    {
     "ename": "NameError",
     "evalue": "name 'post_urls' is not defined",
     "output_type": "error",
     "traceback": [
      "\u001b[1;31m---------------------------------------------------------------------------\u001b[0m",
      "\u001b[1;31mNameError\u001b[0m                                 Traceback (most recent call last)",
      "\u001b[1;32m~\\AppData\\Local\\Temp\\ipykernel_20580\\3275344470.py\u001b[0m in \u001b[0;36m<module>\u001b[1;34m\u001b[0m\n\u001b[1;32m----> 1\u001b[1;33m \u001b[1;32mfor\u001b[0m \u001b[0murl\u001b[0m \u001b[1;32min\u001b[0m \u001b[0mpost_urls\u001b[0m\u001b[1;33m[\u001b[0m\u001b[1;33m:\u001b[0m\u001b[1;36m2\u001b[0m\u001b[1;33m]\u001b[0m\u001b[1;33m:\u001b[0m\u001b[1;33m\u001b[0m\u001b[1;33m\u001b[0m\u001b[0m\n\u001b[0m\u001b[0;32m      2\u001b[0m     \u001b[0mpost_details\u001b[0m \u001b[1;33m=\u001b[0m \u001b[0minsta_link_details\u001b[0m\u001b[1;33m(\u001b[0m\u001b[0murl\u001b[0m\u001b[1;33m)\u001b[0m\u001b[1;33m\u001b[0m\u001b[1;33m\u001b[0m\u001b[0m\n\u001b[0;32m      3\u001b[0m     \u001b[0mprint\u001b[0m\u001b[1;33m(\u001b[0m\u001b[1;34m\"Post Details:\"\u001b[0m\u001b[1;33m,\u001b[0m \u001b[0mpost_details\u001b[0m\u001b[1;33m)\u001b[0m\u001b[1;33m\u001b[0m\u001b[1;33m\u001b[0m\u001b[0m\n",
      "\u001b[1;31mNameError\u001b[0m: name 'post_urls' is not defined"
     ]
    }
   ],
   "source": [
    "for url in post_urls[:2]:\n",
    "    post_details = insta_link_details(url)\n",
    "    print(\"Post Details:\", post_details)"
   ]
  }
 ],
 "metadata": {
  "kernelspec": {
   "display_name": "Python 3",
   "language": "python",
   "name": "python3"
  },
  "language_info": {
   "codemirror_mode": {
    "name": "ipython",
    "version": 3
   },
   "file_extension": ".py",
   "mimetype": "text/x-python",
   "name": "python",
   "nbconvert_exporter": "python",
   "pygments_lexer": "ipython3",
   "version": "3.7.6"
  }
 },
 "nbformat": 4,
 "nbformat_minor": 5
}
